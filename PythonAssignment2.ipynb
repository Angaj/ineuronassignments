{
 "cells": [
  {
   "cell_type": "code",
   "execution_count": 2,
   "metadata": {},
   "outputs": [],
   "source": [
    "Q1>Answer: There are two boolean values in Python a) True b)False"
   ]
  },
  {
   "cell_type": "raw",
   "metadata": {},
   "source": [
    "Q2>Answer : The three types of boolean operator are : AND , OR and  NOT"
   ]
  },
  {
   "cell_type": "raw",
   "metadata": {},
   "source": [
    "Q3>Answer:   \n",
    "             1. AND  --->  0 AND 0 = 0 ,   0 AND 1  =  0 , 1 AND 0 = 0 , 1 AND 1 =  1  \n",
    "             2. OR ---> 0 OR 0 = 0 ,  0 OR 1 = 1, 1 OR 0 = 1, 1 OR 1 =  1\n",
    "             3. NOT ---> NOT 0 = 1 , NOT 1 = 0\n",
    "             \n",
    "             Note : Here 0 represents False, and 1 Represents True"
   ]
  },
  {
   "cell_type": "code",
   "execution_count": 23,
   "metadata": {},
   "outputs": [
    {
     "data": {
      "text/plain": [
       "True"
      ]
     },
     "execution_count": 23,
     "metadata": {},
     "output_type": "execute_result"
    }
   ],
   "source": [
    "# Q4> Answer:  \n",
    "(5 > 4) and (3 == 5)   #False\n",
    "\n",
    "not(5>4)               #False\n",
    "\n",
    "(5 > 4) or (3 == 5)    #True\n",
    "\n",
    "not ((5 > 4) or (3 == 5)) # False\n",
    "\n",
    "(True and True) and (True == False) #False\n",
    "\n",
    "(not False) or (not True) #True\n"
   ]
  },
  {
   "cell_type": "raw",
   "metadata": {},
   "source": [
    " Q5> Answer: \n",
    "        a) == ---> Euqals to operator\n",
    "        b) != ---> Not Equals to operator\n",
    "        c) <  ---> less than\n",
    "        d) >  ---> Greater than\n",
    "        e) <= ---> Less than Equals to\n",
    "        f) >= ---> Greater than Equals to"
   ]
  },
  {
   "cell_type": "raw",
   "metadata": {},
   "source": [
    "# Q6> Answer: \n",
    "    Equals to (==) operator is a comparision operator which is used to compare the two values like 3==3 and \n",
    "    Assignment opertaor is used to assigna value to the variable for example : a=3 ,b ='ineuron' etc.\n",
    "    Genarally equals to operator is used between conditiontional statements like :  if 3==3 :  while a==b : "
   ]
  },
  {
   "cell_type": "code",
   "execution_count": 31,
   "metadata": {},
   "outputs": [
    {
     "name": "stdout",
     "output_type": "stream",
     "text": [
      "ham\n",
      "spam\n",
      "spam\n"
     ]
    }
   ],
   "source": [
    "# Q7> Answer:\n",
    "spam = 0\n",
    "if spam == 10:\n",
    "print('eggs') # indentation Error\n",
    "if spam > 5:    \n",
    "print('bacon') # indentation Error\n",
    "else:\n",
    "print('ham')      # indentation Error\n",
    "print('spam')     # indentation Error\n",
    "print('spam')     # indentation Error"
   ]
  },
  {
   "cell_type": "code",
   "execution_count": 39,
   "metadata": {},
   "outputs": [
    {
     "name": "stdout",
     "output_type": "stream",
     "text": [
      "Enter a number : 3\n",
      "Greetings!\n"
     ]
    }
   ],
   "source": [
    "# Q8> Answer:\n",
    "spam = int(input('Enter a number : '))\n",
    "if spam == 1:\n",
    "    print('Hello')\n",
    "elif spam == 2:\n",
    "    print('Howdy')\n",
    "else :\n",
    "    print('Greetings!')"
   ]
  },
  {
   "cell_type": "code",
   "execution_count": null,
   "metadata": {},
   "outputs": [],
   "source": [
    "Q9> Answer : If my program stuck in endless loop I will press 'ctrl + c' twice to kill that running program in  jupytrt notebook.\n",
    "            If I am using any IDE like pycharm or vs code or simple CLI  i can kill the program by hitting 'ctrl + c' on keyboard."
   ]
  },
  {
   "cell_type": "raw",
   "metadata": {},
   "source": [
    "Q11> Answer : \n",
    "a) range(10) will display the number from 0 to 9  it is like here the stop before the point is given i.e. 10 -1 = 9 \n",
    "so in for loop it will print the range from 0 to 9.\n",
    "\n",
    "b) range(0,10) will display number from 0 to 9 it is like  range(startpoint , stoppoint)  means from where to start and where to stop before endpoint\n",
    "for example for i in range (1,11) :  will print the values from 1 to 10.\n",
    "    \n",
    "c) range(0,10,1) will display number from 0 to 9 but the arguments passed are range(start, stop,step/diffenece) means form where to start, where to stop before and what will be the differnce between the printing \n",
    "data in between range of start to stop \n",
    "for example : \n",
    "    for i in range(0,10,2) will display the output 0,2,4,6,8 in betwwen thw range of 0 to 9 "
   ]
  },
  {
   "cell_type": "raw",
   "metadata": {},
   "source": [
    "Q10>Answer: \n",
    "    the diffrence betweeen the continue and break is  whenever continue is used  in a loop it will skip that iteration or step if the condition gets matched.\n",
    "    for example :  \n",
    "        for i in range(0,10):\n",
    "            if i ==3 :\n",
    "                continue\n",
    "            print(i)\n",
    "            output will be :  0,1,2,4,5,6,7,8,9\n",
    "    if break is used then the loop will be break if the condition satisfies. for example  : \n",
    "        for i in range(0,10):\n",
    "            if i ==3 :\n",
    "                break\n",
    "            print(i)\n",
    "            output will be :  0,1,2"
   ]
  },
  {
   "cell_type": "code",
   "execution_count": 54,
   "metadata": {},
   "outputs": [
    {
     "name": "stdout",
     "output_type": "stream",
     "text": [
      "1\n",
      "2\n",
      "3\n",
      "4\n",
      "5\n",
      "6\n",
      "7\n",
      "8\n",
      "9\n",
      "10\n"
     ]
    }
   ],
   "source": [
    "# Q12> Answer using for loop: \n",
    "for i in range(1,11): \n",
    "    print(i)"
   ]
  },
  {
   "cell_type": "code",
   "execution_count": 57,
   "metadata": {},
   "outputs": [
    {
     "name": "stdout",
     "output_type": "stream",
     "text": [
      "1\n",
      "2\n",
      "3\n",
      "4\n",
      "5\n",
      "6\n",
      "7\n",
      "8\n",
      "9\n",
      "10\n"
     ]
    }
   ],
   "source": [
    "#Q12> Answer using while loop:\n",
    "i = 1\n",
    "while i<=10:\n",
    "    print(i)\n",
    "    i+=1\n"
   ]
  },
  {
   "cell_type": "code",
   "execution_count": null,
   "metadata": {},
   "outputs": [],
   "source": [
    "# Q13> Answer:\n",
    "import spam as sp\n",
    "sp.bacon()"
   ]
  }
 ],
 "metadata": {
  "kernelspec": {
   "display_name": "Python 3",
   "language": "python",
   "name": "python3"
  },
  "language_info": {
   "codemirror_mode": {
    "name": "ipython",
    "version": 3
   },
   "file_extension": ".py",
   "mimetype": "text/x-python",
   "name": "python",
   "nbconvert_exporter": "python",
   "pygments_lexer": "ipython3",
   "version": "3.7.6"
  }
 },
 "nbformat": 4,
 "nbformat_minor": 4
}
