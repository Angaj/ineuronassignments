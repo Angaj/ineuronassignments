{
 "cells": [
  {
   "cell_type": "raw",
   "metadata": {},
   "source": [
    "Q1> Answer :  Functions in program make code easy to understand. it divides the code into small pieces also they are easy to call. avoids duplication of code.The function only excutes when it is called means no un necessory memory allocation whenever it is not called. "
   ]
  },
  {
   "cell_type": "raw",
   "metadata": {},
   "source": [
    "Q2> Answer : The code in function executes whenever it is created/defined and called. just defining funcation doesn't makes it executeble user need to call it "
   ]
  },
  {
   "cell_type": "raw",
   "metadata": {},
   "source": [
    "Q3> Answer :  def function_name(): creates the function."
   ]
  },
  {
   "cell_type": "raw",
   "metadata": {},
   "source": [
    "Q4> Answer :  A function is an ability to make some task in programming. its defined first using def.And then it is called whenever  it is required. the funcation call makes defined function executable."
   ]
  },
  {
   "cell_type": "raw",
   "metadata": {},
   "source": [
    "Q5> Answer : globalscope is one  where the function is defined globally and accessible anywhere in code and local scope is how many times the function is called."
   ]
  },
  {
   "cell_type": "raw",
   "metadata": {},
   "source": [
    "Q6> Answer :  the local variables are limited within a function. so they end locally they are not accesible outsive the function."
   ]
  },
  {
   "cell_type": "raw",
   "metadata": {},
   "source": [
    "Q7> Answer :  A return value is obatained whever the function having some calculations or evalunations. yes it is possible to have return value in expresssion."
   ]
  },
  {
   "cell_type": "raw",
   "metadata": {},
   "source": [
    "Q8> Answer : the return value will be none."
   ]
  },
  {
   "cell_type": "raw",
   "metadata": {},
   "source": [
    "Q9> Answer :  A global statement will force a variable in a function to refer to the global variable."
   ]
  },
  {
   "cell_type": "raw",
   "metadata": {},
   "source": [
    "Q10> Answer : The data type of None is NoneType."
   ]
  },
  {
   "cell_type": "raw",
   "metadata": {},
   "source": [
    "Q11> Answer : import areallyourpetsnamederic doesnt anything its fake.\n",
    "    "
   ]
  },
  {
   "cell_type": "raw",
   "metadata": {},
   "source": [
    "Q12> Answer :import spam \n",
    "    spam.bacon()"
   ]
  },
  {
   "cell_type": "code",
   "execution_count": null,
   "metadata": {},
   "outputs": [],
   "source": [
    "Q13> Answer : Exception handling "
   ]
  },
  {
   "cell_type": "raw",
   "metadata": {},
   "source": [
    "Q14> Answer : If any code within the try statement causes an error, execution of the code will stop and jump to the except statement. Here it will execute the code and if, for any reason, there's an error within the except statement, you'll get the message During handling of the above exception, another exception occurred. You should be careful not to put any code that could cause an error within the except statement."
   ]
  },
  {
   "cell_type": "code",
   "execution_count": null,
   "metadata": {},
   "outputs": [],
   "source": [
    "\n"
   ]
  }
 ],
 "metadata": {
  "kernelspec": {
   "display_name": "Python 3",
   "language": "python",
   "name": "python3"
  },
  "language_info": {
   "codemirror_mode": {
    "name": "ipython",
    "version": 3
   },
   "file_extension": ".py",
   "mimetype": "text/x-python",
   "name": "python",
   "nbconvert_exporter": "python",
   "pygments_lexer": "ipython3",
   "version": "3.7.6"
  }
 },
 "nbformat": 4,
 "nbformat_minor": 4
}
