{
 "cells": [
  {
   "cell_type": "raw",
   "metadata": {},
   "source": [
    "Question 1 :\n",
    "    Answer : An empty dictionary will look like {}."
   ]
  },
  {
   "cell_type": "raw",
   "metadata": {},
   "source": [
    "Question 2 :\n",
    "    Answer : {'foo' : 42}"
   ]
  },
  {
   "cell_type": "raw",
   "metadata": {},
   "source": [
    "Question 3 :\n",
    "    Answer : Dictionary is un-ordered and List is Ordered . Dictionary is represented by key,values and its elements can be accessed by Keys.\n",
    "        while List are represented by its values and can be accessed via index number."
   ]
  },
  {
   "cell_type": "raw",
   "metadata": {},
   "source": [
    "Question 4 : \n",
    "    Answer : You will get key error."
   ]
  },
  {
   "cell_type": "raw",
   "metadata": {},
   "source": [
    "Question 5 : \n",
    "    Answer : There is no difference.  The in operator checks whether a value of the key is in the dictionary or not."
   ]
  },
  {
   "cell_type": "raw",
   "metadata": {},
   "source": [
    "Question 6 :\n",
    "    Answer : 'cat' in spam checks whether there is a 'cat' key in the dictionary, \n",
    "        while 'cat' in spam.values() checks whether there is a value 'cat' for one of the keys in spam."
   ]
  },
  {
   "cell_type": "raw",
   "metadata": {},
   "source": [
    "Question 7 :\n",
    "    Answer : spam.setdefault('color', 'black')"
   ]
  },
  {
   "cell_type": "raw",
   "metadata": {},
   "source": [
    "Question 8 : \n",
    "    Answer : pprint.pprint()\n",
    "    "
   ]
  }
 ],
 "metadata": {
  "kernelspec": {
   "display_name": "Python 3",
   "language": "python",
   "name": "python3"
  },
  "language_info": {
   "codemirror_mode": {
    "name": "ipython",
    "version": 3
   },
   "file_extension": ".py",
   "mimetype": "text/x-python",
   "name": "python",
   "nbconvert_exporter": "python",
   "pygments_lexer": "ipython3",
   "version": "3.8.5"
  }
 },
 "nbformat": 4,
 "nbformat_minor": 4
}
