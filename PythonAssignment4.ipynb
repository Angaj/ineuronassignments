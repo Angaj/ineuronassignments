{
 "cells": [
  {
   "cell_type": "raw",
   "metadata": {},
   "source": [
    "Question 1 :\n",
    "    Answer : [] represents to empty list in python "
   ]
  },
  {
   "cell_type": "raw",
   "metadata": {},
   "source": [
    "Question 2 : \n",
    "    Answer :spam[2] = 'hello'\n",
    "    "
   ]
  },
  {
   "cell_type": "raw",
   "metadata": {},
   "source": [
    "Question 3 :\n",
    "    Answer : the Answer is spam[3] =  'd' "
   ]
  },
  {
   "cell_type": "raw",
   "metadata": {},
   "source": [
    "Question 4 : \n",
    "    Answer : spam[-1] =  'd'  negative indexing  "
   ]
  },
  {
   "cell_type": "raw",
   "metadata": {},
   "source": [
    "Question 5 :\n",
    "    Answer : spam[:2]  = ['a', 'b']"
   ]
  },
  {
   "cell_type": "raw",
   "metadata": {},
   "source": [
    "Question 6 :\n",
    "    Answer :bacon.index('cat') = 1"
   ]
  },
  {
   "cell_type": "raw",
   "metadata": {},
   "source": [
    "Question 7 :\n",
    "    Answer : bacon.append(99) = [3.14, 'cat', 11, 'cat', True, 99]"
   ]
  },
  {
   "cell_type": "raw",
   "metadata": {},
   "source": [
    "Question 8 :\n",
    "    Answer : bacon.remove(cat) = [3.14, 11, 'cat', True, 99]"
   ]
  },
  {
   "cell_type": "raw",
   "metadata": {},
   "source": [
    "Question 9 :\n",
    "    Answer : * is used for list Operation and + is used for list Concatenation"
   ]
  },
  {
   "cell_type": "raw",
   "metadata": {},
   "source": [
    "Question 10:\n",
    "    Answer : append() is used for appending the value in list at end. eg.l1.append('cat')  \n",
    "             insert() is used to inser value at specific postion l1.insert(3,'cat')"
   ]
  },
  {
   "cell_type": "raw",
   "metadata": {},
   "source": [
    "Question 11:\n",
    "    Answer : a. remove()  b. pop()"
   ]
  },
  {
   "cell_type": "raw",
   "metadata": {},
   "source": [
    "Question 12:\n",
    "    Answer :Both lists and strings can be passed to len(), have indexes and slices, be used in for loops, be concatenated or replicated, and be used with the in and not in operators."
   ]
  },
  {
   "cell_type": "raw",
   "metadata": {},
   "source": [
    "Question 13:\n",
    "    Answer : List are mutable. Tuples are immutable. \n",
    "             List consume more memory . Tuples consume less memory.\n",
    "             List are slow to load. Tuples are fast to load.\n",
    "             List have Several Built in Methods.  Tuple have less Built in Methods."
   ]
  },
  {
   "cell_type": "raw",
   "metadata": {},
   "source": [
    "Question 14:\n",
    "    Answer : tup = (42)"
   ]
  },
  {
   "cell_type": "raw",
   "metadata": {},
   "source": [
    "Question 15:\n",
    "    Answer :use tuple() and list()."
   ]
  },
  {
   "cell_type": "raw",
   "metadata": {},
   "source": [
    "Question 16:\n",
    "    Answer : References of list value"
   ]
  },
  {
   "cell_type": "raw",
   "metadata": {},
   "source": [
    "Question 17:\n",
    "    Answer :The copy.copy() function will do a shallow copy of a list, \n",
    "        while the copy.deepcopy() function will do a deep copy of a list. "
   ]
  }
 ],
 "metadata": {
  "kernelspec": {
   "display_name": "Python 3",
   "language": "python",
   "name": "python3"
  },
  "language_info": {
   "codemirror_mode": {
    "name": "ipython",
    "version": 3
   },
   "file_extension": ".py",
   "mimetype": "text/x-python",
   "name": "python",
   "nbconvert_exporter": "python",
   "pygments_lexer": "ipython3",
   "version": "3.8.5"
  }
 },
 "nbformat": 4,
 "nbformat_minor": 4
}
